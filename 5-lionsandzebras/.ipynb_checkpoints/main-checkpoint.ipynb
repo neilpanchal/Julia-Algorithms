{
 "cells": [
  {
   "cell_type": "code",
   "execution_count": 1,
   "metadata": {
    "collapsed": true
   },
   "outputs": [],
   "source": [
    "start_time = 0;\n",
    "end_time = 100;\n",
    "\n",
    "# How much time passes between each successive calculation\n",
    "time_step = 1/4 # In years\n",
    "end_step = int(((end_time - start_time)/ time_step));\n",
    "\n",
    "# The number of zebras when the simulation is started\n",
    "initial_zebras = 30000;\n",
    "\n",
    "# The number of lions when the simulation is started\n",
    "initial_lions = 15;\n",
    "\n",
    "# The number of zebras that must be killed for a lion to be born. (Zebras / Lion)\n",
    "\n",
    "zebras_per_lion = 1000;\n",
    "\n",
    "# The chance a zebra will die when a zebra lion cross paths\n",
    "fighting_chance = 0.50;\n",
    "\n",
    "meeting_chance = 0.02;\n",
    "\n",
    "zebra_growth_rate = 0.20;\n",
    "\n",
    "lion_death_rate = 0.10;\n",
    "\n",
    "# Initialization\n",
    "\n",
    "zebras_over_time = fill(0.0, end_step+1);\n",
    "lions_over_time = fill(0.0, end_step+1);\n",
    "model_time = fill(0.0, end_step+1);\n",
    "\n",
    "zebras = initial_zebras;\n",
    "lions = initial_lions;\n",
    "\n",
    "zebras_over_time[1]\t= zebras;\n",
    "lions_over_time[1] = lions;"
   ]
  },
  {
   "cell_type": "code",
   "execution_count": 2,
   "metadata": {
    "collapsed": true
   },
   "outputs": [],
   "source": [
    "\n",
    "# Run the model\n",
    "\n",
    "for sim_step = 1:end_step\n",
    "\n",
    "\tsim_time = start_time + sim_step * time_step;\n",
    "\tmodel_time[sim_step] = sim_time;\n",
    "\n",
    "\t# First we must calculate our flows (our rates)\n",
    "\tzebra_births = zebras * zebra_growth_rate;\n",
    "\tzebra_deaths  = min(zebras, meeting_chance*fighting_chance*zebras*lions);\n",
    "\n",
    "\tlion_births = 1/zebras_per_lion * zebra_deaths;\n",
    "\tlion_deaths = lions * lion_death_rate;\n",
    "\n",
    "\t# Update the stock levels\n",
    "\tzebras = zebras + zebra_births - zebra_deaths;\n",
    "\tlions = lions + lion_births - lion_deaths\n",
    "\n",
    "\t# Stock values always update in the next time step\n",
    "\tzebras_over_time[sim_step+1] = zebras;\n",
    "\tlions_over_time[sim_step+1] = lions;\n",
    "end"
   ]
  },
  {
   "cell_type": "code",
   "execution_count": 16,
   "metadata": {
    "collapsed": false
   },
   "outputs": [],
   "source": [
    "using Gadfly\n",
    "using DataFrames"
   ]
  },
  {
   "cell_type": "code",
   "execution_count": 39,
   "metadata": {
    "collapsed": false,
    "scrolled": false
   },
   "outputs": [
    {
     "data": {
      "text/html": [
       "<table class=\"data-frame\"><tr><th></th><th>T</th><th>L</th><th>Z</th><th>id</th></tr><tr><th>1</th><td>0.25</td><td>15.0</td><td>30000.0</td><td>1</td></tr><tr><th>2</th><td>0.5</td><td>18.0</td><td>31500.0</td><td>2</td></tr><tr><th>3</th><td>0.75</td><td>21.87</td><td>32130.0</td><td>3</td></tr><tr><th>4</th><td>1.0</td><td>26.709831</td><td>31529.169</td><td>4</td></tr><tr><th>5</th><td>1.25</td><td>32.46023565560439</td><td>29413.61504439561</td><td>5</td></tr><tr><th>6</th><td>1.5</td><td>38.761940848287075</td><td>25748.60929503161</td><td>6</td></tr><tr><th>7</th><td>99.0</td><td>0.02085828792995039</td><td>1.7362620572629801e-6</td><td>396</td></tr><tr><th>8</th><td>99.25</td><td>0.018772459137317506</td><td>2.0831523141764537e-6</td><td>397</td></tr><tr><th>9</th><td>99.5</td><td>0.016895213223976815</td><td>2.4993917180947974e-6</td><td>398</td></tr><tr><th>10</th><td>99.75</td><td>0.015205691902001411</td><td>2.9988477841536824e-6</td><td>399</td></tr><tr><th>11</th><td>100.0</td><td>0.013685122712257266</td><td>3.59816134542975e-6</td><td>400</td></tr><tr><th>12</th><td>0.0</td><td>0.012316610441523953</td><td>4.317301201720193e-6</td><td>401</td></tr></table>"
      ],
      "text/plain": [
       "12x4 DataFrame\n",
       "| Row | T     | L         | Z          | id  |\n",
       "|-----|-------|-----------|------------|-----|\n",
       "| 1   | 0.25  | 15.0      | 30000.0    | 1   |\n",
       "| 2   | 0.5   | 18.0      | 31500.0    | 2   |\n",
       "| 3   | 0.75  | 21.87     | 32130.0    | 3   |\n",
       "| 4   | 1.0   | 26.7098   | 31529.2    | 4   |\n",
       "| 5   | 1.25  | 32.4602   | 29413.6    | 5   |\n",
       "| 6   | 1.5   | 38.7619   | 25748.6    | 6   |\n",
       "| 7   | 99.0  | 0.0208583 | 1.73626e-6 | 396 |\n",
       "| 8   | 99.25 | 0.0187725 | 2.08315e-6 | 397 |\n",
       "| 9   | 99.5  | 0.0168952 | 2.49939e-6 | 398 |\n",
       "| 10  | 99.75 | 0.0152057 | 2.99885e-6 | 399 |\n",
       "| 11  | 100.0 | 0.0136851 | 3.59816e-6 | 400 |\n",
       "| 12  | 0.0   | 0.0123166 | 4.3173e-6  | 401 |"
      ]
     },
     "execution_count": 39,
     "metadata": {},
     "output_type": "execute_result"
    }
   ],
   "source": [
    "d = DataFrame(ID = 1:size(d, 1), T = model_time, L=lions_over_time, Z=zebras_over_time);\n",
    "d[:ID] = 1:size(d, 1)\n",
    "[head(d),tail(d)]"
   ]
  },
  {
   "cell_type": "code",
   "execution_count": 38,
   "metadata": {
    "collapsed": false
   },
   "outputs": [
    {
     "data": {
      "text/html": [
       "<table class=\"data-frame\"><tr><th></th><th>variable</th><th>value</th><th>T</th></tr><tr><th>1</th><td>Z</td><td>30000.0</td><td>0.25</td></tr><tr><th>2</th><td>Z</td><td>31500.0</td><td>0.5</td></tr><tr><th>3</th><td>Z</td><td>32130.0</td><td>0.75</td></tr><tr><th>4</th><td>Z</td><td>31529.169</td><td>1.0</td></tr><tr><th>5</th><td>Z</td><td>29413.61504439561</td><td>1.25</td></tr><tr><th>6</th><td>Z</td><td>25748.60929503161</td><td>1.5</td></tr><tr><th>7</th><td>L</td><td>0.02085828792995039</td><td>99.0</td></tr><tr><th>8</th><td>L</td><td>0.018772459137317506</td><td>99.25</td></tr><tr><th>9</th><td>L</td><td>0.016895213223976815</td><td>99.5</td></tr><tr><th>10</th><td>L</td><td>0.015205691902001411</td><td>99.75</td></tr><tr><th>11</th><td>L</td><td>0.013685122712257266</td><td>100.0</td></tr><tr><th>12</th><td>L</td><td>0.012316610441523953</td><td>0.0</td></tr></table>"
      ],
      "text/plain": [
       "12x3 DataFrame\n",
       "| Row | variable | value     | T     |\n",
       "|-----|----------|-----------|-------|\n",
       "| 1   | Z        | 30000.0   | 0.25  |\n",
       "| 2   | Z        | 31500.0   | 0.5   |\n",
       "| 3   | Z        | 32130.0   | 0.75  |\n",
       "| 4   | Z        | 31529.2   | 1.0   |\n",
       "| 5   | Z        | 29413.6   | 1.25  |\n",
       "| 6   | Z        | 25748.6   | 1.5   |\n",
       "| 7   | L        | 0.0208583 | 99.0  |\n",
       "| 8   | L        | 0.0187725 | 99.25 |\n",
       "| 9   | L        | 0.0168952 | 99.5  |\n",
       "| 10  | L        | 0.0152057 | 99.75 |\n",
       "| 11  | L        | 0.0136851 | 100.0 |\n",
       "| 12  | L        | 0.0123166 | 0.0   |"
      ]
     },
     "execution_count": 38,
     "metadata": {},
     "output_type": "execute_result"
    }
   ],
   "source": [
    "ds = stack(d, [:Z, :L], :T);\n",
    "[head(ds),tail(ds)]"
   ]
  },
  {
   "cell_type": "code",
   "execution_count": null,
   "metadata": {
    "collapsed": true
   },
   "outputs": [],
   "source": []
  }
 ],
 "metadata": {
  "kernelspec": {
   "display_name": "Julia 0.3.9",
   "language": "julia",
   "name": "julia-0.3"
  },
  "language_info": {
   "name": "julia",
   "version": "0.3.9"
  }
 },
 "nbformat": 4,
 "nbformat_minor": 0
}
